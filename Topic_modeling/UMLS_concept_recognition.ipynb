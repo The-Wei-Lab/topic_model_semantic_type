{
 "cells": [
  {
   "cell_type": "code",
   "execution_count": null,
   "metadata": {},
   "outputs": [],
   "source": [
    "from pymetamap import MetaMap\n",
    "import pandas as pd"
   ]
  },
  {
   "cell_type": "code",
   "execution_count": null,
   "metadata": {},
   "outputs": [],
   "source": [
    "#metamap path \n",
    "map_path = '' #change this to your metamap path\n",
    "metam = MetaMap.get_instance(map_path)"
   ]
  },
  {
   "cell_type": "code",
   "execution_count": null,
   "metadata": {},
   "outputs": [],
   "source": [
    "def get_keys_from_mm(concept, klist):\n",
    "    conc_dict = concept._asdict()\n",
    "    conc_list = [conc_dict.get(kk) for kk in klist]\n",
    "    return conc_list\n",
    "\n",
    "def get_cui(cons):\n",
    "    keys_of_interest = ['cui']\n",
    "    results = [get_keys_from_mm(cc, keys_of_interest) for cc in cons]\n",
    "    cui_list = [item for sublist in results for item in sublist]\n",
    "    cui_values = ' '.join(cui_list)\n",
    "    return cui_values\n"
   ]
  },
  {
   "cell_type": "code",
   "execution_count": null,
   "metadata": {},
   "outputs": [],
   "source": [
    "\n",
    "file_path = \"./Cholesterol_statins.csv\"  #change this to your preprocessed data file path\n",
    "df = pd.read_csv(file_path,encoding='UTF-8')"
   ]
  },
  {
   "cell_type": "code",
   "execution_count": null,
   "metadata": {},
   "outputs": [],
   "source": [
    "df.insert(11,\"cui_text\", False)"
   ]
  },
  {
   "cell_type": "code",
   "execution_count": null,
   "metadata": {},
   "outputs": [],
   "source": [
    "for i in range(len(df)):\n",
    "    sentence=df.loc[i,[\"extracted_text\"]]\n",
    "    cons, errs = metam.extract_concepts(sentence,\n",
    "                                    restrict_to_sources = ['ICD10CM','ICD9CM','RXNORM','SNOMEDCT_US'], \n",
    "                                    composite_phrase = 4, \n",
    "                                    restrict_to_sts = [\"sosy\",\"dsyn\",\"mobd\",\"bpoc\"],\n",
    "                                    prune = 20)\n",
    "    cui_list = get_cui(cons)\n",
    "    df.loc[i,[\"cui_text\"]] = cui_list"
   ]
  },
  {
   "cell_type": "code",
   "execution_count": null,
   "metadata": {},
   "outputs": [],
   "source": [
    "df.drop(df[df['cui_text'] == ''].index, inplace=True)\n",
    "df.reset_index(drop=True, inplace=True)"
   ]
  },
  {
   "cell_type": "code",
   "execution_count": null,
   "metadata": {},
   "outputs": [],
   "source": [
    "df = df.dropna(subset=['cui_text'])\n",
    "df.head()"
   ]
  },
  {
   "cell_type": "code",
   "execution_count": null,
   "metadata": {},
   "outputs": [],
   "source": [
    "df.to_csv(\"./Cholesterol_cui_sdmb.csv\") #change this to your saving file path"
   ]
  }
 ],
 "metadata": {
  "kernelspec": {
   "display_name": "base",
   "language": "python",
   "name": "python3"
  },
  "language_info": {
   "codemirror_mode": {
    "name": "ipython",
    "version": 3
   },
   "file_extension": ".py",
   "mimetype": "text/x-python",
   "name": "python",
   "nbconvert_exporter": "python",
   "pygments_lexer": "ipython3",
   "version": "3.11.4"
  },
  "orig_nbformat": 4
 },
 "nbformat": 4,
 "nbformat_minor": 2
}
