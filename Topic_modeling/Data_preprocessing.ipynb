{
 "cells": [
  {
   "cell_type": "markdown",
   "id": "3b87c457",
   "metadata": {},
   "source": [
    "**load package**"
   ]
  },
  {
   "cell_type": "code",
   "execution_count": 1,
   "id": "dd3ae63d",
   "metadata": {},
   "outputs": [],
   "source": [
    "import pandas as pd\n",
    "import json\n",
    "import spacy\n",
    "import re\n",
    "nlp = spacy.load('en_core_web_sm')"
   ]
  },
  {
   "cell_type": "markdown",
   "id": "96ef4ccf",
   "metadata": {},
   "source": [
    "**1. Format the data**"
   ]
  },
  {
   "cell_type": "code",
   "execution_count": null,
   "id": "86e709ff",
   "metadata": {},
   "outputs": [],
   "source": [
    "data = []\n",
    "path = \"./Cholesterol_submissions.json\" # change this to your submission json file path\n",
    "for line in open(path, 'rb'):\n",
    "    data.append(json.loads(line))"
   ]
  },
  {
   "cell_type": "code",
   "execution_count": null,
   "id": "f2837c8d",
   "metadata": {},
   "outputs": [],
   "source": [
    "df=pd.DataFrame.from_dict(data)\n",
    "df[\"created_utc\"]=df[\"created_utc\"].astype(int)\n",
    "df[\"score\"]=df[\"score\"].astype(int)\n",
    "df[\"num_comments\"]=df[\"num_comments\"].astype(int)"
   ]
  },
  {
   "cell_type": "code",
   "execution_count": null,
   "id": "ab03fbe5",
   "metadata": {},
   "outputs": [],
   "source": [
    "df = df[[\"author\",\"author_created_utc\",\"created_utc\",\"id\",\"num_comments\",\"score\",\"upvote_ratio\",\"title\",\"selftext\",\"subreddit\"]][(df[\"author\"]!=\"[deleted]\")]"
   ]
  },
  {
   "cell_type": "code",
   "execution_count": null,
   "id": "afde64b3",
   "metadata": {},
   "outputs": [],
   "source": [
    "df.info()"
   ]
  },
  {
   "cell_type": "code",
   "execution_count": null,
   "id": "fcf1fbe7",
   "metadata": {},
   "outputs": [],
   "source": [
    "df = df.drop(df[(df[\"author\"] ==\"Therinicus\")|(df[\"author\"] ==\"draka1\")| (df[\"author\"] ==\"_alexkane_\")|(df[\"author\"] ==\"AutoModerator\")|(df[\"author\"] ==\"Bojarow\")].index)\n",
    "df = df.drop(df[(df[\"selftext\"] ==\"[removed]\")| (pd.isnull(df[\"selftext\"]))].index)\n",
    "df = df.reset_index(drop=True)"
   ]
  },
  {
   "cell_type": "code",
   "execution_count": null,
   "id": "f5d055e2",
   "metadata": {},
   "outputs": [],
   "source": [
    "df.head()"
   ]
  },
  {
   "cell_type": "markdown",
   "id": "8b2599dd",
   "metadata": {},
   "source": [
    "**2. Data Preprocessing**"
   ]
  },
  {
   "cell_type": "markdown",
   "id": "58e21bdd",
   "metadata": {},
   "source": [
    "extract submissions with identified statin names"
   ]
  },
  {
   "cell_type": "code",
   "execution_count": null,
   "id": "ebb0ae36",
   "metadata": {},
   "outputs": [],
   "source": [
    "def check_sentence(sentence, group):\n",
    "    # Convert the sentence to lowercase for case-insensitive matching\n",
    "    sentence = sentence.lower()\n",
    "\n",
    "    # Tokenize the sentence and apply spaCy's linguistic annotations\n",
    "    doc = nlp(sentence)\n",
    "\n",
    "    # Lemmatize each word in the sentence and convert plural to singular\n",
    "    words = [token.lemma_ for token in doc]\n",
    "\n",
    "    # Check if there is at least one word from group 1 in the modified sentence\n",
    "    has_group_word = any(word in words for word in group)\n",
    "\n",
    "    return has_group_word "
   ]
  },
  {
   "cell_type": "code",
   "execution_count": null,
   "id": "7d61d420",
   "metadata": {},
   "outputs": [],
   "source": [
    "med = [\"statin\",\"atorvastatin\",\"simvastatin\",\"rosuvastatin\",\"pitavastatin\",\"fluvastatin\",\"lovastatin\",\"pravastatin\",\"lipitor\",\"zocor\",\"crestor\",\"livalo\",\"lescol\",\"mevacor\",\"pravachol\"]"
   ]
  },
  {
   "cell_type": "code",
   "execution_count": null,
   "id": "3397abfe",
   "metadata": {},
   "outputs": [],
   "source": [
    "df.insert(9, 'text', True)"
   ]
  },
  {
   "cell_type": "code",
   "execution_count": null,
   "id": "06964bec",
   "metadata": {},
   "outputs": [],
   "source": [
    "df[\"title\"]=df[\"title\"].astype(\"str\")\n",
    "df[\"selftext\"]=df[\"selftext\"].astype(\"str\")"
   ]
  },
  {
   "cell_type": "code",
   "execution_count": null,
   "id": "bfb7767e",
   "metadata": {},
   "outputs": [],
   "source": [
    "df[\"text\"]=df[\"title\"].str.cat(df[\"selftext\"],sep=\" \")"
   ]
  },
  {
   "cell_type": "code",
   "execution_count": null,
   "id": "d811bd6c",
   "metadata": {},
   "outputs": [],
   "source": [
    "df.insert(10,\"statins\", False)"
   ]
  },
  {
   "cell_type": "code",
   "execution_count": null,
   "id": "cc1c5771",
   "metadata": {},
   "outputs": [],
   "source": [
    "for i in range(len(df)):\n",
    "    sentence=df.loc[i,[\"text\"]][0]\n",
    "    if check_sentence(sentence, med):\n",
    "        df.loc[i,[\"statins\"]] = True"
   ]
  },
  {
   "cell_type": "code",
   "execution_count": null,
   "id": "044ad608",
   "metadata": {
    "scrolled": true
   },
   "outputs": [],
   "source": [
    "df_statins= df[df[\"statins\"] == True]\n",
    "df_statins.reset_index(drop=True, inplace=True)\n",
    "df_statins.head()"
   ]
  },
  {
   "cell_type": "code",
   "execution_count": null,
   "id": "54114842",
   "metadata": {},
   "outputs": [],
   "source": [
    "df_statins.insert(10,\"extracted_text\", True)"
   ]
  },
  {
   "cell_type": "markdown",
   "id": "7ce8101d",
   "metadata": {},
   "source": [
    "extract nouns, verbs and adjectives from texts"
   ]
  },
  {
   "cell_type": "code",
   "execution_count": null,
   "id": "cdfb237a",
   "metadata": {},
   "outputs": [],
   "source": [
    "for i in range(len(df_statins)):\n",
    "    sentence=df_statins.loc[i,[\"text\"]][0]\n",
    "    doc = nlp(sentence)\n",
    "    filtered_tokens = [token for token in doc if token.pos_ in [\"VERB\", \"NOUN\", \"ADJ\", \"PROPN\"] and len(token.text) > 1 and not token.is_digit]\n",
    "    new_sentence = \" \".join([token.text.lower() for token in filtered_tokens])\n",
    "    df_statins.loc[i,[\"extracted_text\"]]=new_sentence"
   ]
  },
  {
   "cell_type": "code",
   "execution_count": null,
   "id": "b60a79e9",
   "metadata": {},
   "outputs": [],
   "source": [
    "df_statins.head()"
   ]
  },
  {
   "cell_type": "code",
   "execution_count": null,
   "id": "75a61cc5",
   "metadata": {},
   "outputs": [],
   "source": [
    "df_statins.to_csv(\"./Cholesterol_statins.csv\") #change this to your saving file path"
   ]
  }
 ],
 "metadata": {
  "kernelspec": {
   "display_name": "Python 3 (ipykernel)",
   "language": "python",
   "name": "python3"
  },
  "language_info": {
   "codemirror_mode": {
    "name": "ipython",
    "version": 3
   },
   "file_extension": ".py",
   "mimetype": "text/x-python",
   "name": "python",
   "nbconvert_exporter": "python",
   "pygments_lexer": "ipython3",
   "version": "3.8.16"
  }
 },
 "nbformat": 4,
 "nbformat_minor": 5
}
