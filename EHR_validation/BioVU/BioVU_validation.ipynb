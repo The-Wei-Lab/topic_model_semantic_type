{
 "cells": [
  {
   "cell_type": "markdown",
   "metadata": {
    "application/vnd.databricks.v1+cell": {
     "cellMetadata": {
      "byteLimit": 2048000,
      "rowLimit": 10000
     },
     "inputWidgets": {},
     "nuid": "33cf2e1e-005f-448e-ab4f-53d44224f5a8",
     "showTitle": false,
     "title": ""
    }
   },
   "source": [
    "**Table definitions and load packages**"
   ]
  },
  {
   "cell_type": "code",
   "execution_count": null,
   "metadata": {
    "application/vnd.databricks.v1+cell": {
     "cellMetadata": {
      "byteLimit": 2048000,
      "rowLimit": 10000
     },
     "inputWidgets": {},
     "nuid": "96795aeb-8e49-471c-a47f-1d04b3afa420",
     "showTitle": false,
     "title": ""
    }
   },
   "outputs": [],
   "source": [
    "drug_table = \"victr_sd.sd_omop_prod.drug_exposure\"\n",
    "cond_table = \"victr_sd.sd_omop_prod.condition_occurrence\"\n",
    "visit_table = \"victr_sd.sd_omop_prod.visit_occurrence\"\n",
    "person_table =\"victr_sd.sd_omop_prod.person\"\n",
    "icd_table = \"workspace_sdphenotypecore.statin_mental_conditions.icd_condition\"\n",
    "control_cohort = \"workspace_sdphenotypecore.statin_mental_conditions.control_patients_1\"\n",
    "case_cohort = \"workspace_sdphenotypecore.statin_mental_conditions.matched_cases_1\"\n",
    "statin_list = [\"statin\",\"atorvastatin\",\"simvastatin\",\"rosuvastatin\",\"pitavastatin\",\"fluvastatin\",\"lovastatin\",\"pravastatin\",\"lipitor\",\"zocor\",\"crestor\",\"livalo\",\"lescol\",\"mevacor\",\"pravachol\"]"
   ]
  },
  {
   "cell_type": "code",
   "execution_count": null,
   "metadata": {
    "application/vnd.databricks.v1+cell": {
     "cellMetadata": {
      "byteLimit": 2048000,
      "rowLimit": 10000
     },
     "inputWidgets": {},
     "nuid": "46b696cd-6a30-47d4-8363-d35cea4a1189",
     "showTitle": false,
     "title": ""
    }
   },
   "outputs": [],
   "source": [
    "#import python packages\n",
    "from pyspark.sql.functions import expr\n",
    "from pyspark.sql.functions import when, col\n",
    "from pyspark.sql.functions import min, max\n",
    "import numpy as np\n",
    "import pandas as pd"
   ]
  },
  {
   "cell_type": "code",
   "execution_count": null,
   "metadata": {
    "application/vnd.databricks.v1+cell": {
     "cellMetadata": {
      "byteLimit": 2048000,
      "rowLimit": 10000
     },
     "inputWidgets": {},
     "nuid": "d42f2176-0742-4629-97a5-d936f0d9270d",
     "showTitle": false,
     "title": ""
    }
   },
   "outputs": [],
   "source": [
    "%r\n",
    "install.packages(\"MatchIt\")"
   ]
  },
  {
   "cell_type": "code",
   "execution_count": null,
   "metadata": {
    "application/vnd.databricks.v1+cell": {
     "cellMetadata": {
      "byteLimit": 2048000,
      "rowLimit": 10000
     },
     "inputWidgets": {},
     "nuid": "c88ae204-0826-46ad-b515-6483c03cf7e7",
     "showTitle": false,
     "title": ""
    }
   },
   "outputs": [],
   "source": [
    "%r\n",
    "#import R packages\n",
    "library(SparkR)\n",
    "library(sparklyr)\n",
    "library(dplyr)\n",
    "library(MatchIt)"
   ]
  },
  {
   "cell_type": "markdown",
   "metadata": {
    "application/vnd.databricks.v1+cell": {
     "cellMetadata": {
      "byteLimit": 2048000,
      "rowLimit": 10000
     },
     "inputWidgets": {},
     "nuid": "e4c4fcea-0847-4e73-b7ca-d7ab5227dc54",
     "showTitle": false,
     "title": ""
    }
   },
   "source": [
    "# 1. Create database"
   ]
  },
  {
   "cell_type": "code",
   "execution_count": null,
   "metadata": {
    "application/vnd.databricks.v1+cell": {
     "cellMetadata": {
      "byteLimit": 2048000,
      "implicitDf": true,
      "rowLimit": 10000
     },
     "inputWidgets": {},
     "nuid": "ab249fab-9d08-4a33-a74e-3d287099d8c3",
     "showTitle": false,
     "title": ""
    }
   },
   "outputs": [],
   "source": [
    "%sql\n",
    "--create database statin_mental_conditions--"
   ]
  },
  {
   "cell_type": "markdown",
   "metadata": {
    "application/vnd.databricks.v1+cell": {
     "cellMetadata": {
      "byteLimit": 2048000,
      "rowLimit": 10000
     },
     "inputWidgets": {},
     "nuid": "efaf1f54-6fda-406a-b799-f8ac43fe570c",
     "showTitle": false,
     "title": ""
    }
   },
   "source": [
    "# 2. Search for patients exposed statins in drug_exposure table"
   ]
  },
  {
   "cell_type": "code",
   "execution_count": null,
   "metadata": {
    "application/vnd.databricks.v1+cell": {
     "cellMetadata": {
      "byteLimit": 2048000,
      "rowLimit": 10000
     },
     "inputWidgets": {},
     "nuid": "0eff39f6-80d5-4827-a2e7-10d487f41120",
     "showTitle": false,
     "title": ""
    }
   },
   "outputs": [],
   "source": [
    "\n",
    "sql_drug = f'''\n",
    "SELECT \n",
    "    drug.person_id,\n",
    "    MIN(drug.drug_exposure_start_date) AS drug_date,\n",
    "    person.gender_source_value AS gender,\n",
    "    person.race_source_value AS race,\n",
    "    DATEDIFF(year, person.birth_datetime, MAX(visit.visit_start_date)) AS age,\n",
    "    DATEDIFF(year, MIN(visit.visit_start_date), MAX(visit.visit_start_date)) AS ehr_length\n",
    "FROM  {drug_table} AS drug \n",
    "INNER JOIN  {visit_table} AS visit ON visit.person_id = drug.person_id\n",
    "INNER JOIN {person_table} AS person ON person.person_id = drug.person_id\n",
    "WHERE LOWER(drug_source_value) IN ({\", \".join([\"'\"+s.lower()+\"'\" for s in statin_list])}) AND \n",
    "      person.gender_source_value IN (\"F\",\"M\") AND person.race_source_value IN (\"W\",\"B\")\n",
    "GROUP BY  \n",
    "    drug.person_id, person.gender_source_value, person.race_source_value, person.birth_datetime\n",
    "HAVING \n",
    "    MIN(drug.drug_exposure_start_date) = (\n",
    "        SELECT MIN(drug_exposure_start_date)\n",
    "        FROM {drug_table}\n",
    "        WHERE person_id = drug.person_id\n",
    "        AND LOWER(drug_source_value) IN ({\", \".join([\"'\"+s.lower()+\"'\" for s in statin_list])})\n",
    "    )\n",
    "    AND DATEDIFF(year, person.birth_datetime, MAX(visit.visit_start_date)) >= 18    \n",
    "'''\n",
    "df_drug = spark.sql(sql_drug)\n",
    "df_drug.display()"
   ]
  },
  {
   "cell_type": "code",
   "execution_count": null,
   "metadata": {
    "application/vnd.databricks.v1+cell": {
     "cellMetadata": {
      "byteLimit": 2048000,
      "rowLimit": 10000
     },
     "inputWidgets": {},
     "nuid": "79b42ba5-f89b-4d0e-bc27-793085914608",
     "showTitle": false,
     "title": ""
    }
   },
   "outputs": [],
   "source": [
    "#the number of patients exposed to statin\n",
    "distinct_statin_count = df_drug.select(\"person_id\").distinct().count()\n",
    "print(\"Number of distinct depressed person_id :\", distinct_statin_count)"
   ]
  },
  {
   "cell_type": "code",
   "execution_count": null,
   "metadata": {
    "application/vnd.databricks.v1+cell": {
     "cellMetadata": {
      "byteLimit": 2048000,
      "rowLimit": 10000
     },
     "inputWidgets": {},
     "nuid": "30faa866-a00e-42a8-b0fc-7a03c5fc6e41",
     "showTitle": false,
     "title": ""
    }
   },
   "outputs": [],
   "source": [
    "#the number of record for statin exposure\n",
    "row_count = df_drug.count()\n",
    "\n",
    "print(f\"Number of rows in df_drug: {row_count}\")"
   ]
  },
  {
   "cell_type": "code",
   "execution_count": null,
   "metadata": {
    "application/vnd.databricks.v1+cell": {
     "cellMetadata": {
      "byteLimit": 2048000,
      "rowLimit": 10000
     },
     "inputWidgets": {},
     "nuid": "0e832255-dc1e-4fe1-b48c-62c71d90b9c7",
     "showTitle": false,
     "title": ""
    }
   },
   "outputs": [],
   "source": [
    "min_max_age = df_drug.agg(\n",
    "    min(\"age\").alias(\"min_age\"),\n",
    "    max(\"age\").alias(\"max_age\")\n",
    ")\n",
    "\n",
    "# Show the result\n",
    "min_max_age.show()"
   ]
  },
  {
   "cell_type": "markdown",
   "metadata": {
    "application/vnd.databricks.v1+cell": {
     "cellMetadata": {
      "byteLimit": 2048000,
      "rowLimit": 10000
     },
     "inputWidgets": {},
     "nuid": "10ea5210-80d6-407d-857c-2c34a4a74cb4",
     "showTitle": false,
     "title": ""
    }
   },
   "source": [
    "# 3. Search for ICD codes in condition_occurence table"
   ]
  },
  {
   "cell_type": "code",
   "execution_count": null,
   "metadata": {
    "application/vnd.databricks.v1+cell": {
     "cellMetadata": {
      "byteLimit": 2048000,
      "rowLimit": 10000
     },
     "inputWidgets": {},
     "nuid": "96c06b1e-b913-4a84-a842-068e7a1d0e95",
     "showTitle": false,
     "title": ""
    }
   },
   "outputs": [],
   "source": [
    "#icd code from condition table appeared in icd_condition\n",
    "\n",
    "\n",
    "sql_icd = f'''\n",
    "SELECT \n",
    "    ICD.person_id,\n",
    "    ICD.ICD_date,\n",
    "    person.gender_source_value AS gender,\n",
    "    person.race_source_value AS race,\n",
    "    DATEDIFF(year, person.birth_datetime, MAX(visit.visit_start_date)) AS age,\n",
    "    DATEDIFF(year, MIN(visit.visit_start_date), MAX(visit.visit_start_date)) AS ehr_length\n",
    "FROM  ( SELECT person_id, MIN(ICD_date) AS ICD_date\n",
    "        FROM (\n",
    "            SELECT \n",
    "                condition.person_id AS person_id, \n",
    "                condition.condition_source_value AS ICD_code, \n",
    "                MIN(condition.condition_start_date) AS ICD_date\n",
    "            FROM \n",
    "                {cond_table} AS condition\n",
    "            INNER JOIN \n",
    "                {icd_table} AS icd\n",
    "            ON \n",
    "                condition.condition_source_value = icd.code\n",
    "            GROUP BY\n",
    "                condition.person_id, condition.condition_source_value\n",
    "           ) AS subquery\n",
    "       GROUP BY person_id) AS ICD\n",
    "INNER JOIN  {visit_table} AS visit ON visit.person_id = ICD.person_id\n",
    "INNER JOIN {person_table} AS person ON person.person_id = ICD.person_id\n",
    "WHERE person.gender_source_value IN (\"F\",\"M\") AND person.race_source_value IN (\"W\",\"B\")\n",
    "GROUP BY  \n",
    "    ICD.person_id, ICD.ICD_date, person.gender_source_value, person.race_source_value, person.birth_datetime\n",
    "HAVING DATEDIFF(year, person.birth_datetime, MAX(visit.visit_start_date)) >= 18\n",
    "'''\n",
    "\n",
    "df_icd = spark.sql(sql_icd)\n",
    "df_icd.display()"
   ]
  },
  {
   "cell_type": "code",
   "execution_count": null,
   "metadata": {
    "application/vnd.databricks.v1+cell": {
     "cellMetadata": {
      "byteLimit": 2048000,
      "rowLimit": 10000
     },
     "inputWidgets": {},
     "nuid": "528f5197-fe3c-41f0-b1f5-d41d843949e8",
     "showTitle": false,
     "title": ""
    }
   },
   "outputs": [],
   "source": [
    "distinct_icd_count = df_icd.select(\"person_id\").distinct().count()\n",
    "print(\"Number of distinct ICD person_id :\", distinct_icd_count)"
   ]
  },
  {
   "cell_type": "code",
   "execution_count": null,
   "metadata": {
    "application/vnd.databricks.v1+cell": {
     "cellMetadata": {
      "byteLimit": 2048000,
      "rowLimit": 10000
     },
     "inputWidgets": {},
     "nuid": "216cfbec-a4e9-41a2-824a-bd39539e3ba7",
     "showTitle": false,
     "title": ""
    }
   },
   "outputs": [],
   "source": [
    "#the number of record for statin exposure\n",
    "row_count = df_icd.count()\n",
    "\n",
    "print(f\"Number of rows in df_drug: {row_count}\")"
   ]
  },
  {
   "cell_type": "code",
   "execution_count": null,
   "metadata": {
    "application/vnd.databricks.v1+cell": {
     "cellMetadata": {
      "byteLimit": 2048000,
      "rowLimit": 10000
     },
     "inputWidgets": {},
     "nuid": "201d259b-b6e1-4a07-9040-ae94eb254b88",
     "showTitle": false,
     "title": ""
    }
   },
   "outputs": [],
   "source": [
    "min_max_age = df_icd.agg(\n",
    "    min(\"age\").alias(\"min_age\"),\n",
    "    max(\"age\").alias(\"max_age\")\n",
    ")\n",
    "\n",
    "# Show the result\n",
    "min_max_age.show()"
   ]
  },
  {
   "cell_type": "markdown",
   "metadata": {
    "application/vnd.databricks.v1+cell": {
     "cellMetadata": {
      "byteLimit": 2048000,
      "rowLimit": 10000
     },
     "inputWidgets": {},
     "nuid": "1901e6fa-c085-42a2-a477-a4ac20fac86d",
     "showTitle": false,
     "title": ""
    }
   },
   "source": [
    "# 4. find the case population for patients "
   ]
  },
  {
   "cell_type": "code",
   "execution_count": null,
   "metadata": {
    "application/vnd.databricks.v1+cell": {
     "cellMetadata": {
      "byteLimit": 2048000,
      "rowLimit": 10000
     },
     "inputWidgets": {},
     "nuid": "afd45837-e325-4299-beb3-96655bfeba79",
     "showTitle": false,
     "title": ""
    }
   },
   "outputs": [],
   "source": [
    "df_depress = df_drug.join(df_icd, df_drug.person_id == df_icd.person_id, \"inner\")\n",
    "\n",
    "columns = [\"person_id\",\"gender\",\"race\",\"age\",\"ehr_length\"]\n",
    "\n",
    "result_df = df_drug.select(*columns)\n",
    "\n",
    "result_df.display()"
   ]
  },
  {
   "cell_type": "code",
   "execution_count": null,
   "metadata": {
    "application/vnd.databricks.v1+cell": {
     "cellMetadata": {
      "byteLimit": 2048000,
      "rowLimit": 10000
     },
     "inputWidgets": {},
     "nuid": "d6b0daad-f2e7-448a-b7fd-edc301813b83",
     "showTitle": false,
     "title": ""
    }
   },
   "outputs": [],
   "source": [
    "#case population\n",
    "distinct_person_count = result_df.select(\"person_id\").distinct().count()\n",
    "\n",
    "print(\"Number of distinct person_id :\", distinct_person_count)"
   ]
  },
  {
   "cell_type": "code",
   "execution_count": null,
   "metadata": {
    "application/vnd.databricks.v1+cell": {
     "cellMetadata": {
      "byteLimit": 2048000,
      "rowLimit": 10000
     },
     "inputWidgets": {},
     "nuid": "7cb448b9-db75-4da7-94cb-33859e9d7c9c",
     "showTitle": false,
     "title": ""
    }
   },
   "outputs": [],
   "source": [
    "#the number of record in case\n",
    "row_count = result_df.count()\n",
    "\n",
    "print(f\"Number of rows in result_df: {row_count}\")"
   ]
  },
  {
   "cell_type": "code",
   "execution_count": null,
   "metadata": {
    "application/vnd.databricks.v1+cell": {
     "cellMetadata": {
      "byteLimit": 2048000,
      "rowLimit": 10000
     },
     "inputWidgets": {},
     "nuid": "f143f59c-d5e1-4545-8e47-10bed704e8be",
     "showTitle": false,
     "title": ""
    }
   },
   "outputs": [],
   "source": [
    "df_depress.display()"
   ]
  },
  {
   "cell_type": "code",
   "execution_count": null,
   "metadata": {
    "application/vnd.databricks.v1+cell": {
     "cellMetadata": {
      "byteLimit": 2048000,
      "rowLimit": 10000
     },
     "inputWidgets": {},
     "nuid": "8bb276a5-2d07-42bd-9b42-7e90f4b8183f",
     "showTitle": false,
     "title": ""
    }
   },
   "outputs": [],
   "source": [
    "#the number of depressed patients in case population\n",
    "distinct_depress_count = df_depress.select(\"drug.person_id\").distinct().count()\n",
    "print(\"Number of distinct depressed person_id :\", distinct_depress_count)"
   ]
  },
  {
   "cell_type": "code",
   "execution_count": null,
   "metadata": {
    "application/vnd.databricks.v1+cell": {
     "cellMetadata": {
      "byteLimit": 2048000,
      "rowLimit": 10000
     },
     "inputWidgets": {},
     "nuid": "dac2a9c0-2941-43d8-b7aa-e62ccd21f539",
     "showTitle": false,
     "title": ""
    }
   },
   "outputs": [],
   "source": [
    "#the number of record in case\n",
    "row_count = df_depress.count()\n",
    "\n",
    "print(f\"Number of rows in df_drug: {row_count}\")"
   ]
  },
  {
   "cell_type": "code",
   "execution_count": null,
   "metadata": {
    "application/vnd.databricks.v1+cell": {
     "cellMetadata": {
      "byteLimit": 2048000,
      "rowLimit": 10000
     },
     "inputWidgets": {},
     "nuid": "dd1e195e-b70e-4ad3-9139-62d7dd7493da",
     "showTitle": false,
     "title": ""
    }
   },
   "outputs": [],
   "source": [
    "#depress rate\n",
    "depress_rate = distinct_depress_count/distinct_person_count\n",
    "\n",
    "print(f\"Depress rate in Case: {depress_rate}\")"
   ]
  },
  {
   "cell_type": "markdown",
   "metadata": {
    "application/vnd.databricks.v1+cell": {
     "cellMetadata": {
      "byteLimit": 2048000,
      "rowLimit": 10000
     },
     "inputWidgets": {},
     "nuid": "dbb3304f-1c69-4963-be1e-a197c7c38d2b",
     "showTitle": false,
     "title": ""
    }
   },
   "source": [
    "# 5. write result_df to table"
   ]
  },
  {
   "cell_type": "code",
   "execution_count": null,
   "metadata": {
    "application/vnd.databricks.v1+cell": {
     "cellMetadata": {
      "byteLimit": 2048000,
      "rowLimit": 10000
     },
     "inputWidgets": {},
     "nuid": "5c704876-be6f-4445-972f-25343048c4a1",
     "showTitle": false,
     "title": ""
    }
   },
   "outputs": [],
   "source": [
    "result_df.write.saveAsTable(f\"statin_mental_conditions.case_cohort\", format=\"parquet\", mode=\"overwrite\")"
   ]
  },
  {
   "cell_type": "markdown",
   "metadata": {
    "application/vnd.databricks.v1+cell": {
     "cellMetadata": {
      "byteLimit": 2048000,
      "rowLimit": 10000
     },
     "inputWidgets": {},
     "nuid": "639aee96-7d16-4e4a-afd2-207b607af7e1",
     "showTitle": false,
     "title": ""
    }
   },
   "source": [
    "# 6. quality check"
   ]
  },
  {
   "cell_type": "code",
   "execution_count": null,
   "metadata": {
    "application/vnd.databricks.v1+cell": {
     "cellMetadata": {
      "byteLimit": 2048000,
      "implicitDf": true,
      "rowLimit": 10000
     },
     "inputWidgets": {},
     "nuid": "95a0c426-0eaf-4d34-9aad-ff599be774ab",
     "showTitle": false,
     "title": ""
    }
   },
   "outputs": [],
   "source": [
    "%sql\n",
    "---see the minimum age---\n",
    "SELECT min(age), max(age)\n",
    "FROM statin_mental_conditions.case_cohort\n"
   ]
  },
  {
   "cell_type": "code",
   "execution_count": null,
   "metadata": {
    "application/vnd.databricks.v1+cell": {
     "cellMetadata": {
      "byteLimit": 2048000,
      "implicitDf": true,
      "rowLimit": 10000
     },
     "inputWidgets": {},
     "nuid": "f9409532-7182-48bc-adbe-2ff613ea8ef9",
     "showTitle": false,
     "title": ""
    }
   },
   "outputs": [],
   "source": [
    "%sql\n",
    "use catalog `hive_metastore`; select * from `statin_mental_conditions`.`case_cohort` "
   ]
  },
  {
   "cell_type": "code",
   "execution_count": null,
   "metadata": {
    "application/vnd.databricks.v1+cell": {
     "cellMetadata": {
      "byteLimit": 2048000,
      "implicitDf": true,
      "rowLimit": 10000
     },
     "inputWidgets": {},
     "nuid": "f0ef04e1-59b6-4308-8ba0-7c0ead50d870",
     "showTitle": false,
     "title": ""
    }
   },
   "outputs": [],
   "source": [
    "%sql\n",
    "---see the gender distribution---\n",
    "SELECT gender, count(gender)\n",
    "FROM statin_mental_conditions.case_cohort\n",
    "GROUP BY gender"
   ]
  },
  {
   "cell_type": "code",
   "execution_count": null,
   "metadata": {
    "application/vnd.databricks.v1+cell": {
     "cellMetadata": {
      "byteLimit": 2048000,
      "implicitDf": true,
      "rowLimit": 10000
     },
     "inputWidgets": {},
     "nuid": "3e8ea1c6-5531-44b3-922b-861b044bc755",
     "showTitle": false,
     "title": ""
    }
   },
   "outputs": [],
   "source": [
    "%sql\n",
    "---see the race distribution---\n",
    "SELECT race, count(race)\n",
    "FROM statin_mental_conditions.case_cohort\n",
    "GROUP BY race\n",
    "ORDER BY count(race) DESC"
   ]
  },
  {
   "cell_type": "markdown",
   "metadata": {
    "application/vnd.databricks.v1+cell": {
     "cellMetadata": {
      "byteLimit": 2048000,
      "rowLimit": 10000
     },
     "inputWidgets": {},
     "nuid": "c649ad30-9d4f-4da2-be9e-18b6e5b8b581",
     "showTitle": false,
     "title": ""
    }
   },
   "source": [
    "# 7. Get cohort of patients who are not exposed to statin drugs (to sample control)"
   ]
  },
  {
   "cell_type": "code",
   "execution_count": null,
   "metadata": {
    "application/vnd.databricks.v1+cell": {
     "cellMetadata": {
      "byteLimit": 2048000,
      "rowLimit": 10000
     },
     "inputWidgets": {},
     "nuid": "d8a0fe08-bf08-4bc6-81fc-85869123de83",
     "showTitle": false,
     "title": ""
    }
   },
   "outputs": [],
   "source": [
    "sql_cohort = f'''\n",
    "    SELECT \n",
    "        visit.person_id,\n",
    "        person.gender_source_value AS gender,\n",
    "        person.race_source_value AS race,\n",
    "        DATEDIFF(year, person.birth_datetime, MAX(visit.visit_start_date)) AS age,\n",
    "        DATEDIFF(year, MIN(visit.visit_start_date), MAX(visit.visit_start_date)) AS ehr_length\n",
    "    FROM  {visit_table} AS visit \n",
    "    INNER JOIN {person_table} AS person ON person.person_id = visit.person_id\n",
    "    WHERE visit.person_id not in (select person_id from `statin_mental_conditions`.`case_cohort`)\n",
    "          AND person.gender_source_value IN (\"F\",\"M\") AND person.race_source_value IN (\"W\",\"B\")\n",
    "    GROUP BY\n",
    "        visit.person_id, person.gender_source_value, person.race_source_value, person.birth_datetime\n",
    "    HAVING \n",
    "        DATEDIFF(year, person.birth_datetime, MAX(visit.visit_start_date)) >= 18\n",
    "'''\n",
    "df_cohort = spark.sql(sql_cohort)\n",
    "df_cohort.display()"
   ]
  },
  {
   "cell_type": "code",
   "execution_count": null,
   "metadata": {
    "application/vnd.databricks.v1+cell": {
     "cellMetadata": {
      "byteLimit": 2048000,
      "rowLimit": 10000
     },
     "inputWidgets": {},
     "nuid": "464f45c1-618b-48af-bd83-c804aca84369",
     "showTitle": false,
     "title": ""
    }
   },
   "outputs": [],
   "source": [
    "#the number of depressed patients in control cohort\n",
    "distinct_cohort_count = df_cohort.select(\"person_id\").distinct().count()\n",
    "print(\"Number of distinct cohort person_id :\", distinct_cohort_count)\n"
   ]
  },
  {
   "cell_type": "code",
   "execution_count": null,
   "metadata": {
    "application/vnd.databricks.v1+cell": {
     "cellMetadata": {
      "byteLimit": 2048000,
      "rowLimit": 10000
     },
     "inputWidgets": {},
     "nuid": "3f000408-1076-4435-bfe0-380d9ac1ccf2",
     "showTitle": false,
     "title": ""
    }
   },
   "outputs": [],
   "source": [
    "#the number of record in case\n",
    "row_count = df_cohort.count()\n",
    "\n",
    "print(f\"Number of rows in df_drug: {row_count}\")"
   ]
  },
  {
   "cell_type": "code",
   "execution_count": null,
   "metadata": {
    "application/vnd.databricks.v1+cell": {
     "cellMetadata": {
      "byteLimit": 2048000,
      "rowLimit": 10000
     },
     "inputWidgets": {},
     "nuid": "30f1702f-eebc-4ea8-8b57-9db7200be886",
     "showTitle": false,
     "title": ""
    }
   },
   "outputs": [],
   "source": [
    "min_max_age = df_drug.agg(\n",
    "    min(\"age\").alias(\"min_age\"),\n",
    "    max(\"age\").alias(\"max_age\")\n",
    ")\n",
    "\n",
    "# Show the result\n",
    "min_max_age.show()"
   ]
  },
  {
   "cell_type": "code",
   "execution_count": null,
   "metadata": {
    "application/vnd.databricks.v1+cell": {
     "cellMetadata": {
      "byteLimit": 2048000,
      "rowLimit": 10000
     },
     "inputWidgets": {},
     "nuid": "6dea54c1-0acd-4002-977b-4843b466c00b",
     "showTitle": false,
     "title": ""
    }
   },
   "outputs": [],
   "source": [
    "df_cohort.write.saveAsTable(f\"statin_mental_conditions.control_cohort\", format=\"parquet\", mode=\"overwrite\")"
   ]
  },
  {
   "cell_type": "code",
   "execution_count": null,
   "metadata": {
    "application/vnd.databricks.v1+cell": {
     "cellMetadata": {
      "byteLimit": 2048000,
      "implicitDf": true,
      "rowLimit": 10000
     },
     "inputWidgets": {},
     "nuid": "475d3d1c-b6e3-4bba-9ccd-704ebf421862",
     "showTitle": false,
     "title": ""
    }
   },
   "outputs": [],
   "source": [
    "%sql\n",
    "---see the gender distribution---\n",
    "SELECT gender, count(gender)\n",
    "FROM statin_mental_conditions.control_cohort\n",
    "GROUP BY gender"
   ]
  },
  {
   "cell_type": "code",
   "execution_count": null,
   "metadata": {
    "application/vnd.databricks.v1+cell": {
     "cellMetadata": {
      "byteLimit": 2048000,
      "implicitDf": true,
      "rowLimit": 10000
     },
     "inputWidgets": {},
     "nuid": "1c129b10-0577-4067-af69-4464ad6f3a18",
     "showTitle": false,
     "title": ""
    }
   },
   "outputs": [],
   "source": [
    "%sql\n",
    "---see the race distribution---\n",
    "SELECT race, count(race)\n",
    "FROM statin_mental_conditions.control_cohort\n",
    "GROUP BY race\n",
    "ORDER BY count(race) DESC"
   ]
  },
  {
   "cell_type": "markdown",
   "metadata": {
    "application/vnd.databricks.v1+cell": {
     "cellMetadata": {
      "byteLimit": 2048000,
      "rowLimit": 10000
     },
     "inputWidgets": {},
     "nuid": "cbbb32ff-9076-4cdd-9381-41be3a33b4d9",
     "showTitle": false,
     "title": ""
    }
   },
   "source": [
    "# 8. Using MatchIt to sample control based on case"
   ]
  },
  {
   "cell_type": "code",
   "execution_count": null,
   "metadata": {
    "application/vnd.databricks.v1+cell": {
     "cellMetadata": {
      "byteLimit": 2048000,
      "rowLimit": 10000
     },
     "inputWidgets": {},
     "nuid": "c2e9242d-3d8f-4e09-b1d8-7c3e5231cae4",
     "showTitle": false,
     "title": ""
    }
   },
   "outputs": [],
   "source": [
    "%r\n",
    "sc <- spark_connect(method = \"databricks\")"
   ]
  },
  {
   "cell_type": "code",
   "execution_count": null,
   "metadata": {
    "application/vnd.databricks.v1+cell": {
     "cellMetadata": {
      "byteLimit": 2048000,
      "rowLimit": 10000
     },
     "inputWidgets": {},
     "nuid": "ea6d13d0-280d-4a03-b2c4-42b07e9ab9bf",
     "showTitle": false,
     "title": ""
    }
   },
   "outputs": [],
   "source": [
    "%r\n",
    "case <- as.data.frame(collect(sdf_sql(sc, \"SELECT * FROM statin_mental_conditions.case_cohort\")))\n",
    "case"
   ]
  },
  {
   "cell_type": "code",
   "execution_count": null,
   "metadata": {
    "application/vnd.databricks.v1+cell": {
     "cellMetadata": {
      "byteLimit": 2048000,
      "rowLimit": 10000
     },
     "inputWidgets": {},
     "nuid": "31472e9e-e86a-4f9f-a66a-b79dc92b11d2",
     "showTitle": false,
     "title": ""
    }
   },
   "outputs": [],
   "source": [
    "%r\n",
    "cohort <- as.data.frame(collect(sdf_sql(sc, \"SELECT * FROM statin_mental_conditions.control_cohort\")))\n",
    "cohort"
   ]
  },
  {
   "cell_type": "code",
   "execution_count": null,
   "metadata": {
    "application/vnd.databricks.v1+cell": {
     "cellMetadata": {
      "byteLimit": 2048000,
      "rowLimit": 10000
     },
     "inputWidgets": {},
     "nuid": "ca4d2d65-63cd-4cec-a549-81f0f4c0faea",
     "showTitle": false,
     "title": ""
    }
   },
   "outputs": [],
   "source": [
    "%r\n",
    "case$treatment <- 1\n",
    "cohort$treatment <- 0"
   ]
  },
  {
   "cell_type": "code",
   "execution_count": null,
   "metadata": {
    "application/vnd.databricks.v1+cell": {
     "cellMetadata": {
      "byteLimit": 2048000,
      "rowLimit": 10000
     },
     "inputWidgets": {},
     "nuid": "3743927c-85f8-43bb-babc-51ba6c1cb410",
     "showTitle": false,
     "title": ""
    }
   },
   "outputs": [],
   "source": [
    "%r\n",
    "combined_data <- rbind(case, cohort)"
   ]
  },
  {
   "cell_type": "code",
   "execution_count": null,
   "metadata": {
    "application/vnd.databricks.v1+cell": {
     "cellMetadata": {
      "byteLimit": 2048000,
      "rowLimit": 10000
     },
     "inputWidgets": {},
     "nuid": "9b3cab91-ad8d-4154-b5fa-45ad963f1cd2",
     "showTitle": false,
     "title": ""
    }
   },
   "outputs": [],
   "source": [
    "%r\n",
    "# Define the formula for the covariates you want to use for matching\n",
    "formula <- as.formula(\"treatment ~ age + gender + race + ehr_length\")\n",
    "\n",
    "# Perform nearest neighbor matching with a 1:1 match ratio\n",
    "matched_data <- matchit(formula, data = combined_data, method = \"nearest\", ratio = 1)\n",
    "\n",
    "# Extract the matched data\n",
    "matched_data <- match.data(matched_data)\n"
   ]
  },
  {
   "cell_type": "code",
   "execution_count": null,
   "metadata": {
    "application/vnd.databricks.v1+cell": {
     "cellMetadata": {
      "byteLimit": 2048000,
      "rowLimit": 10000
     },
     "inputWidgets": {},
     "nuid": "8d3adbf4-56a6-477f-a0d2-cad1b3994d34",
     "showTitle": false,
     "title": ""
    }
   },
   "outputs": [],
   "source": [
    "%r\n",
    "matched_data"
   ]
  },
  {
   "cell_type": "code",
   "execution_count": null,
   "metadata": {
    "application/vnd.databricks.v1+cell": {
     "cellMetadata": {
      "byteLimit": 2048000,
      "rowLimit": 10000
     },
     "inputWidgets": {},
     "nuid": "54d9ebac-efd6-47a3-a569-9add8c8c78cf",
     "showTitle": false,
     "title": ""
    }
   },
   "outputs": [],
   "source": [
    "%r\n",
    "nrow(matched_data)"
   ]
  },
  {
   "cell_type": "code",
   "execution_count": null,
   "metadata": {
    "application/vnd.databricks.v1+cell": {
     "cellMetadata": {
      "byteLimit": 2048000,
      "rowLimit": 10000
     },
     "inputWidgets": {},
     "nuid": "31d8b772-471b-4d09-8e2c-aaf4b17a738e",
     "showTitle": false,
     "title": ""
    }
   },
   "outputs": [],
   "source": [
    "%r\n",
    "summary(matched_data)"
   ]
  },
  {
   "cell_type": "code",
   "execution_count": null,
   "metadata": {
    "application/vnd.databricks.v1+cell": {
     "cellMetadata": {
      "byteLimit": 2048000,
      "rowLimit": 10000
     },
     "inputWidgets": {},
     "nuid": "4fa20e35-b8fa-400f-a0ba-891961d298c1",
     "showTitle": false,
     "title": ""
    }
   },
   "outputs": [],
   "source": [
    "%r\n",
    "matched_controls <- matched_data %>%\n",
    "  filter(treatment == 0) # Select controls\n",
    "\n",
    "nrow(matched_controls)"
   ]
  },
  {
   "cell_type": "code",
   "execution_count": null,
   "metadata": {
    "application/vnd.databricks.v1+cell": {
     "cellMetadata": {
      "byteLimit": 2048000,
      "rowLimit": 10000
     },
     "inputWidgets": {},
     "nuid": "07edc1a3-9c67-4b7e-afe5-8fbb59339396",
     "showTitle": false,
     "title": ""
    }
   },
   "outputs": [],
   "source": [
    "%r\n",
    "matched_controls"
   ]
  },
  {
   "cell_type": "code",
   "execution_count": null,
   "metadata": {
    "application/vnd.databricks.v1+cell": {
     "cellMetadata": {
      "byteLimit": 2048000,
      "rowLimit": 10000
     },
     "inputWidgets": {},
     "nuid": "2a59528f-03c9-457b-835f-63be05b6aa61",
     "showTitle": false,
     "title": ""
    }
   },
   "outputs": [],
   "source": [
    "%r\n",
    "matched_cases <- matched_data %>%\n",
    "  filter(treatment == 1) # Select controls\n",
    "\n",
    "nrow(matched_cases)"
   ]
  },
  {
   "cell_type": "code",
   "execution_count": null,
   "metadata": {
    "application/vnd.databricks.v1+cell": {
     "cellMetadata": {
      "byteLimit": 2048000,
      "rowLimit": 10000
     },
     "inputWidgets": {},
     "nuid": "11c78649-07b2-4f39-95fd-61c7395bcb04",
     "showTitle": false,
     "title": ""
    }
   },
   "outputs": [],
   "source": [
    "%r\n",
    "matched_cases"
   ]
  },
  {
   "cell_type": "code",
   "execution_count": null,
   "metadata": {
    "application/vnd.databricks.v1+cell": {
     "cellMetadata": {
      "byteLimit": 2048000,
      "rowLimit": 10000
     },
     "inputWidgets": {},
     "nuid": "0d791e83-0d5d-47e7-8d73-0753458c01db",
     "showTitle": false,
     "title": ""
    }
   },
   "outputs": [],
   "source": [
    "%r\n",
    "any(duplicated(matched_controls$person_id))"
   ]
  },
  {
   "cell_type": "code",
   "execution_count": null,
   "metadata": {
    "application/vnd.databricks.v1+cell": {
     "cellMetadata": {
      "byteLimit": 2048000,
      "rowLimit": 10000
     },
     "inputWidgets": {},
     "nuid": "927f38bb-6fc9-4265-8df0-ef8379754a10",
     "showTitle": false,
     "title": ""
    }
   },
   "outputs": [],
   "source": [
    "%r\n",
    "# Assuming df is your dataframe\n",
    "matched_controls <- matched_controls[, c(\"person_id\", \"gender\", \"race\", \"age\", \"ehr_length\")]\n",
    "matched_controls"
   ]
  },
  {
   "cell_type": "code",
   "execution_count": null,
   "metadata": {
    "application/vnd.databricks.v1+cell": {
     "cellMetadata": {},
     "inputWidgets": {},
     "nuid": "fe14c25e-5099-4f89-955b-8fe7961bf4e1",
     "showTitle": false,
     "title": ""
    }
   },
   "outputs": [],
   "source": [
    "%r\n",
    "sdf <- copy_to(sc, matched_controls)\n",
    "spark_write_table(sdf, name = \"statin_mental_conditions.control_patients_1\", mode = \"overwrite\")"
   ]
  },
  {
   "cell_type": "code",
   "execution_count": null,
   "metadata": {
    "application/vnd.databricks.v1+cell": {
     "cellMetadata": {},
     "inputWidgets": {},
     "nuid": "163a389a-cc11-438e-8897-b348b8578987",
     "showTitle": false,
     "title": ""
    }
   },
   "outputs": [],
   "source": [
    "%r\n",
    "matched_cases <- matched_cases[, c(\"person_id\", \"gender\", \"race\", \"age\", \"ehr_length\")]\n",
    "matched_cases"
   ]
  },
  {
   "cell_type": "code",
   "execution_count": null,
   "metadata": {
    "application/vnd.databricks.v1+cell": {
     "cellMetadata": {},
     "inputWidgets": {},
     "nuid": "832196cb-f934-45ea-aa5f-448caacd50d9",
     "showTitle": false,
     "title": ""
    }
   },
   "outputs": [],
   "source": [
    "%r\n",
    "sdf_case <- copy_to(sc, matched_cases)\n",
    "spark_write_table(sdf_case, name = \"statin_mental_conditions.matched_cases_1\", mode = \"overwrite\")"
   ]
  },
  {
   "cell_type": "code",
   "execution_count": null,
   "metadata": {
    "application/vnd.databricks.v1+cell": {
     "cellMetadata": {
      "byteLimit": 2048000,
      "implicitDf": true,
      "rowLimit": 10000
     },
     "inputWidgets": {},
     "nuid": "ecc637ff-17ff-4ece-91a0-a318bd8772e0",
     "showTitle": false,
     "title": ""
    }
   },
   "outputs": [],
   "source": [
    "%sql\n",
    "SELECT count(*), count(DISTINCT control.person_id)\n",
    "FROM statin_mental_conditions.control_patients_1 as control\n",
    "INNER JOIN statin_mental_conditions.control_cohort as cohort\n",
    "ON cohort.person_id = control.person_id"
   ]
  },
  {
   "cell_type": "code",
   "execution_count": null,
   "metadata": {
    "application/vnd.databricks.v1+cell": {
     "cellMetadata": {
      "byteLimit": 2048000,
      "rowLimit": 10000
     },
     "inputWidgets": {},
     "nuid": "a51b2b6a-b9c6-442f-b34c-311c81198c2e",
     "showTitle": false,
     "title": ""
    }
   },
   "outputs": [],
   "source": [
    "sql_control_depress = f'''\n",
    "  SELECT control.person_id, control.gender, control.race,  control.age,  control.ehr_length\n",
    "  FROM (\n",
    "        SELECT \n",
    "            condition.person_id AS person_id, \n",
    "            condition.condition_source_value AS ICD_code\n",
    "        FROM \n",
    "            {cond_table} AS condition\n",
    "        INNER JOIN \n",
    "            {icd_table} AS icd\n",
    "        ON \n",
    "            condition.condition_source_value = icd.code) As icd\n",
    "  INNER JOIN {control_cohort} As control\n",
    "  ON control.person_id = icd.person_id\n",
    "'''\n",
    "df_control_depress = spark.sql(sql_control_depress)\n",
    "df_control_depress.display()"
   ]
  },
  {
   "cell_type": "code",
   "execution_count": null,
   "metadata": {
    "application/vnd.databricks.v1+cell": {
     "cellMetadata": {
      "byteLimit": 2048000,
      "rowLimit": 10000
     },
     "inputWidgets": {},
     "nuid": "f5b6f20d-501e-46df-9ecf-1bdb61672b0e",
     "showTitle": false,
     "title": ""
    }
   },
   "outputs": [],
   "source": [
    "#the number of depressed patients in control \n",
    "distinct_con_depress_count = df_control_depress.select(\"person_id\").distinct().count()\n",
    "print(\"Number of distinct control depress person_id :\", distinct_con_depress_count)"
   ]
  },
  {
   "cell_type": "code",
   "execution_count": null,
   "metadata": {
    "application/vnd.databricks.v1+cell": {
     "cellMetadata": {
      "byteLimit": 2048000,
      "rowLimit": 10000
     },
     "inputWidgets": {},
     "nuid": "87a0295c-42dd-4fc0-8e78-b8d79970fc1e",
     "showTitle": false,
     "title": ""
    }
   },
   "outputs": [],
   "source": [
    "#the number of record in case\n",
    "row_count = df_control_depress.count()\n",
    "\n",
    "print(f\"Number of rows in df_control_depress: {row_count}\")"
   ]
  },
  {
   "cell_type": "code",
   "execution_count": null,
   "metadata": {
    "application/vnd.databricks.v1+cell": {
     "cellMetadata": {
      "byteLimit": 2048000,
      "rowLimit": 10000
     },
     "inputWidgets": {},
     "nuid": "168c5682-9671-4b06-a43d-87e0789c226a",
     "showTitle": false,
     "title": ""
    }
   },
   "outputs": [],
   "source": [
    "sql_control = f'''\n",
    "  SELECT *\n",
    "  FROM {control_cohort}\n",
    "'''\n",
    "df_control = spark.sql(sql_control)\n",
    "df_control.display()"
   ]
  },
  {
   "cell_type": "code",
   "execution_count": null,
   "metadata": {
    "application/vnd.databricks.v1+cell": {
     "cellMetadata": {
      "byteLimit": 2048000,
      "rowLimit": 10000
     },
     "inputWidgets": {},
     "nuid": "15f15163-e635-4558-beef-8eabbf19b9c2",
     "showTitle": false,
     "title": ""
    }
   },
   "outputs": [],
   "source": [
    "#the number patients in control \n",
    "distinct_con_count = df_control.select(\"person_id\").distinct().count()\n",
    "print(\"Number of distinct control person_id :\", distinct_con_count)"
   ]
  },
  {
   "cell_type": "code",
   "execution_count": null,
   "metadata": {
    "application/vnd.databricks.v1+cell": {
     "cellMetadata": {
      "byteLimit": 2048000,
      "rowLimit": 10000
     },
     "inputWidgets": {},
     "nuid": "eac92595-2364-449d-af2b-b7f53ff94dad",
     "showTitle": false,
     "title": ""
    }
   },
   "outputs": [],
   "source": [
    "#the number of record in case\n",
    "row_count = df_control.count()\n",
    "\n",
    "print(f\"Number of rows in df_control: {row_count}\")"
   ]
  },
  {
   "cell_type": "code",
   "execution_count": null,
   "metadata": {
    "application/vnd.databricks.v1+cell": {
     "cellMetadata": {
      "byteLimit": 2048000,
      "rowLimit": 10000
     },
     "inputWidgets": {},
     "nuid": "4ef7b9a1-ecc3-49ea-970d-0b0f81fca3c6",
     "showTitle": false,
     "title": ""
    }
   },
   "outputs": [],
   "source": [
    "#depress rate\n",
    "depress_rate_control = distinct_con_depress_count/distinct_con_count\n",
    "\n",
    "print(f\"Depress rate in control: {depress_rate_control}\")"
   ]
  },
  {
   "cell_type": "code",
   "execution_count": null,
   "metadata": {
    "application/vnd.databricks.v1+cell": {
     "cellMetadata": {
      "byteLimit": 2048000,
      "rowLimit": 10000
     },
     "inputWidgets": {},
     "nuid": "1164d389-d7b2-43a0-b45d-7b9d376be2b4",
     "showTitle": false,
     "title": ""
    }
   },
   "outputs": [],
   "source": [
    "sql_case_depress = f'''\n",
    "  SELECT case.person_id, case.gender, case.race, case.age, case.ehr_length\n",
    "  FROM (\n",
    "        SELECT \n",
    "            condition.person_id AS person_id, \n",
    "            condition.condition_source_value AS ICD_code\n",
    "        FROM \n",
    "            {cond_table} AS condition\n",
    "        INNER JOIN \n",
    "            {icd_table} AS icd\n",
    "        ON \n",
    "            condition.condition_source_value = icd.code) As icd\n",
    "  INNER JOIN {case_cohort} As case\n",
    "  ON case.person_id = icd.person_id\n",
    "'''\n",
    "df_case_depress = spark.sql(sql_case_depress)\n",
    "df_case_depress.display()"
   ]
  },
  {
   "cell_type": "code",
   "execution_count": null,
   "metadata": {
    "application/vnd.databricks.v1+cell": {
     "cellMetadata": {
      "byteLimit": 2048000,
      "rowLimit": 10000
     },
     "inputWidgets": {},
     "nuid": "86d62431-e3e3-4ba4-89a4-a41dd2b6337c",
     "showTitle": false,
     "title": ""
    }
   },
   "outputs": [],
   "source": [
    "sql_case_depress_before = f'''\n",
    "SELECT \n",
    "    case.person_id, \n",
    "    case.gender, \n",
    "    case.race, \n",
    "    case.age, \n",
    "    case.ehr_length,\n",
    "    depress.ICD_date,\n",
    "    statin.drug_date\n",
    "FROM (\n",
    "    SELECT \n",
    "        ICD.person_id,\n",
    "        ICD.ICD_date\n",
    "    FROM (\n",
    "        SELECT \n",
    "            condition.person_id AS person_id, \n",
    "            MIN(condition.condition_start_date) AS ICD_date\n",
    "        FROM \n",
    "            {cond_table} AS condition\n",
    "        INNER JOIN \n",
    "            {icd_table} AS icd\n",
    "            ON condition.condition_source_value = icd.code\n",
    "        GROUP BY\n",
    "            condition.person_id\n",
    "        ) AS ICD\n",
    ") AS depress\n",
    "INNER JOIN (\n",
    "    SELECT \n",
    "        drug.person_id,\n",
    "        MIN(drug.drug_exposure_start_date) AS drug_date\n",
    "    FROM {drug_table} AS drug \n",
    "    WHERE LOWER(drug.drug_source_value) IN ({\", \".join([\"'\"+s.lower()+\"'\" for s in statin_list])})\n",
    "    GROUP BY  \n",
    "        drug.person_id\n",
    "    HAVING \n",
    "        MIN(drug.drug_exposure_start_date) = (\n",
    "            SELECT MIN(drug_exposure_start_date)\n",
    "            FROM {drug_table}\n",
    "            WHERE person_id = drug.person_id\n",
    "            AND LOWER(drug_source_value) IN ({\", \".join([\"'\"+s.lower()+\"'\" for s in statin_list])}))\n",
    ") AS statin\n",
    "ON statin.person_id = depress.person_id\n",
    "INNER JOIN {case_cohort} AS case\n",
    "ON case.person_id = depress.person_id\n",
    "WHERE depress.ICD_date > statin.drug_date\n",
    "'''\n",
    "df_case_depress_before = spark.sql(sql_case_depress_before)\n",
    "df_case_depress_before.display()"
   ]
  },
  {
   "cell_type": "code",
   "execution_count": null,
   "metadata": {
    "application/vnd.databricks.v1+cell": {
     "cellMetadata": {
      "byteLimit": 2048000,
      "rowLimit": 10000
     },
     "inputWidgets": {},
     "nuid": "4d8a0523-6450-4fa8-8cbf-12ffc3c1a395",
     "showTitle": false,
     "title": ""
    }
   },
   "outputs": [],
   "source": [
    "#the number of depressed patients in matched case\n",
    "distinct_case_depress_count = df_case_depress.select(\"person_id\").distinct().count()\n",
    "print(\"Number of distinct case depress person_id :\", distinct_case_depress_count)"
   ]
  },
  {
   "cell_type": "code",
   "execution_count": null,
   "metadata": {
    "application/vnd.databricks.v1+cell": {
     "cellMetadata": {
      "byteLimit": 2048000,
      "rowLimit": 10000
     },
     "inputWidgets": {},
     "nuid": "9bc28377-d9eb-48f3-9827-adb5e9930fc0",
     "showTitle": false,
     "title": ""
    }
   },
   "outputs": [],
   "source": [
    "#the number of record in case\n",
    "row_count = df_case_depress.count()\n",
    "\n",
    "print(f\"Number of rows in df_control_depress: {row_count}\")"
   ]
  },
  {
   "cell_type": "code",
   "execution_count": null,
   "metadata": {
    "application/vnd.databricks.v1+cell": {
     "cellMetadata": {
      "byteLimit": 2048000,
      "rowLimit": 10000
     },
     "inputWidgets": {},
     "nuid": "b1ba8a83-ee83-432f-8726-e18d2bd51f5a",
     "showTitle": false,
     "title": ""
    }
   },
   "outputs": [],
   "source": [
    "#the number of depressed patients in matched case\n",
    "distinct_case_before_count = df_case_depress_before.select(\"person_id\").distinct().count()\n",
    "print(\"Number of distinct case depress person_id :\", distinct_case_before_count)"
   ]
  },
  {
   "cell_type": "code",
   "execution_count": null,
   "metadata": {
    "application/vnd.databricks.v1+cell": {
     "cellMetadata": {
      "byteLimit": 2048000,
      "rowLimit": 10000
     },
     "inputWidgets": {},
     "nuid": "0dfb07d0-509a-43e7-9fd4-aba7e64af852",
     "showTitle": false,
     "title": ""
    }
   },
   "outputs": [],
   "source": [
    "#the number of record in case\n",
    "row_count = df_case_depress_before.count()\n",
    "\n",
    "print(f\"Number of rows in df_control_depress: {row_count}\")"
   ]
  },
  {
   "cell_type": "code",
   "execution_count": null,
   "metadata": {
    "application/vnd.databricks.v1+cell": {
     "cellMetadata": {
      "byteLimit": 2048000,
      "rowLimit": 10000
     },
     "inputWidgets": {},
     "nuid": "79692234-4556-4806-94c4-7744f8becf28",
     "showTitle": false,
     "title": ""
    }
   },
   "outputs": [],
   "source": [
    "sql_case = f'''\n",
    "  SELECT *\n",
    "  FROM statin_mental_conditions.matched_cases_1\n",
    "'''\n",
    "df_case = spark.sql(sql_case)\n",
    "df_case.display()"
   ]
  },
  {
   "cell_type": "code",
   "execution_count": null,
   "metadata": {
    "application/vnd.databricks.v1+cell": {
     "cellMetadata": {
      "byteLimit": 2048000,
      "rowLimit": 10000
     },
     "inputWidgets": {},
     "nuid": "6831ae7a-2d7c-493a-a613-49f4048da8b6",
     "showTitle": false,
     "title": ""
    }
   },
   "outputs": [],
   "source": [
    "#the number patients in case\n",
    "distinct_case_count = df_case.select(\"person_id\").distinct().count()\n",
    "print(\"Number of distinct case person_id :\", distinct_case_count)"
   ]
  },
  {
   "cell_type": "code",
   "execution_count": null,
   "metadata": {
    "application/vnd.databricks.v1+cell": {
     "cellMetadata": {
      "byteLimit": 2048000,
      "rowLimit": 10000
     },
     "inputWidgets": {},
     "nuid": "ce050b2c-27c4-40a1-9796-57bcbc2dcfb2",
     "showTitle": false,
     "title": ""
    }
   },
   "outputs": [],
   "source": [
    "#depress rate\n",
    "depress_rate_case = distinct_case_depress_count/distinct_case_count\n",
    "\n",
    "print(f\"Depress rate in case: {depress_rate_case}\")"
   ]
  },
  {
   "cell_type": "code",
   "execution_count": null,
   "metadata": {
    "application/vnd.databricks.v1+cell": {
     "cellMetadata": {
      "byteLimit": 2048000,
      "rowLimit": 10000
     },
     "inputWidgets": {},
     "nuid": "974e1b34-b773-4455-9a39-e340c83b5124",
     "showTitle": false,
     "title": ""
    }
   },
   "outputs": [],
   "source": [
    "#depress rate before\n",
    "depress_rate_case_before = distinct_case_before_count/distinct_case_count\n",
    "\n",
    "print(f\"Depress rate in case: {depress_rate_case_before}\")"
   ]
  }
 ],
 "metadata": {
  "application/vnd.databricks.v1+notebook": {
   "dashboards": [],
   "environmentMetadata": null,
   "language": "python",
   "notebookMetadata": {
    "mostRecentlyExecutedCommandWithImplicitDF": {
     "commandId": 692098048167928,
     "dataframes": [
      "_sqldf"
     ]
    },
    "pythonIndentUnit": 4
   },
   "notebookName": "statin_mental_conditions-v3",
   "widgets": {}
  },
  "kernelspec": {
   "display_name": "Python 3 (ipykernel)",
   "language": "python",
   "name": "python3"
  },
  "language_info": {
   "codemirror_mode": {
    "name": "ipython",
    "version": 3
   },
   "file_extension": ".py",
   "mimetype": "text/x-python",
   "name": "python",
   "nbconvert_exporter": "python",
   "pygments_lexer": "ipython3",
   "version": "3.8.16"
  }
 },
 "nbformat": 4,
 "nbformat_minor": 1
}
