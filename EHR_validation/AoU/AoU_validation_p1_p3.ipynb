{
 "cells": [
  {
   "cell_type": "markdown",
   "metadata": {},
   "source": [
    "# Package and Tables"
   ]
  },
  {
   "cell_type": "code",
   "execution_count": null,
   "metadata": {},
   "outputs": [],
   "source": [
    "import os\n",
    "import numpy as np\n",
    "import pandas as pd\n",
    "from google.cloud import bigquery\n",
    "import seaborn as sns\n",
    "import matplotlib.pyplot as plt\n",
    "import subprocess\n",
    "\n",
    "\n",
    "\n",
    "pd.set_option('max_colwidth', 800) # show all contents"
   ]
  },
  {
   "cell_type": "code",
   "execution_count": null,
   "metadata": {},
   "outputs": [],
   "source": [
    "my_bucket=os.getenv('WORKSPACE_BUCKET')\n",
    "my_bucket"
   ]
  },
  {
   "cell_type": "code",
   "execution_count": null,
   "metadata": {},
   "outputs": [],
   "source": [
    "DATASET=os.environ[\"WORKSPACE_CDR\"]\n",
    "DATASET"
   ]
  },
  {
   "cell_type": "code",
   "execution_count": null,
   "metadata": {},
   "outputs": [],
   "source": [
    "cond_table = DATASET+\".condition_occurrence\"\n",
    "drug_table = DATASET+\".drug_exposure\"\n",
    "visit_table = DATASET+\".visit_occurrence\"\n",
    "person_table = DATASET+\".person\"\n",
    "concept_table = DATASET+\".concept\"\n",
    "statin_list = [\"statin\",\"atorvastatin\",\"simvastatin\",\"rosuvastatin\",\"pitavastatin\",\"fluvastatin\",\"lovastatin\",\"pravastatin\",\"lipitor\",\"zocor\",\"crestor\",\"livalo\",\"lescol\",\"mevacor\",\"pravachol\"]"
   ]
  },
  {
   "cell_type": "markdown",
   "metadata": {},
   "source": [
    "# Search for patients on statins in drug_exposure table"
   ]
  },
  {
   "cell_type": "code",
   "execution_count": null,
   "metadata": {},
   "outputs": [],
   "source": [
    "query=f\"\"\"\n",
    "\n",
    "SELECT *\n",
    "\n",
    "FROM {person_table} AS person\n",
    "\n",
    "LIMIT 5\n",
    "\n",
    "\"\"\"\n",
    "df=pd.read_gbq(query, dialect='standard')\n",
    "df.columns"
   ]
  },
  {
   "cell_type": "code",
   "execution_count": null,
   "metadata": {},
   "outputs": [],
   "source": [
    "query=f\"\"\"\n",
    "\n",
    "SELECT *\n",
    "\n",
    "FROM {drug_table} AS Drug\n",
    "\n",
    "LIMIT 5\n",
    "\n",
    "\"\"\"\n",
    "df=pd.read_gbq(query, dialect='standard')\n",
    "df"
   ]
  },
  {
   "cell_type": "code",
   "execution_count": null,
   "metadata": {
    "scrolled": true
   },
   "outputs": [],
   "source": [
    "query=f\"\"\"\n",
    "\n",
    "SELECT *\n",
    "\n",
    "FROM {concept_table} AS concept\n",
    "\n",
    "WHERE concept_id in (1585840,1585839,1586146,1586143)\n",
    "\n",
    "limit 20\n",
    "\n",
    "\"\"\"\n",
    "df=pd.read_gbq(query, dialect='standard')\n",
    "df"
   ]
  },
  {
   "cell_type": "code",
   "execution_count": null,
   "metadata": {},
   "outputs": [],
   "source": [
    "query=f\"\"\"\n",
    "\n",
    "SELECT *\n",
    "\n",
    "FROM {concept_table} AS concept\n",
    "\n",
    "WHERE LOWER(concept_name) IN ({\", \".join([\"'\"+s.lower()+\"'\" for s in statin_list])}) AND domain_id = \"Drug\"\n",
    "\n",
    "\"\"\"\n",
    "df=pd.read_gbq(query, dialect='standard')\n",
    "drug_list = df['concept_id'].tolist()\n",
    "drug_list_str = ', '.join([str(id) for id in drug_list])\n",
    "drug_list_str"
   ]
  },
  {
   "cell_type": "code",
   "execution_count": null,
   "metadata": {},
   "outputs": [],
   "source": [
    "sql_drug = f'''\n",
    "SELECT \n",
    "    drug.person_id,\n",
    "    MIN(drug.drug_exposure_start_date) AS drug_date,\n",
    "    person.gender_source_concept_id AS gender,\n",
    "    person.race_source_concept_id AS race,\n",
    "    CAST(DATE_DIFF(MAX(visit.visit_start_date), DATE(person.birth_datetime), DAY)/365.25 AS INT) AS age,\n",
    "    DATE_DIFF(MAX(visit.visit_start_date), MIN(visit.visit_start_date), YEAR) AS ehr_length\n",
    "FROM  {drug_table} AS drug \n",
    "INNER JOIN  {visit_table} AS visit ON visit.person_id = drug.person_id\n",
    "INNER JOIN {person_table} AS person ON person.person_id = drug.person_id\n",
    "WHERE drug_source_concept_id IN ({drug_list_str})  AND \n",
    "      person.gender_source_concept_id IN (1585840,1585839) AND person.race_source_concept_id IN (1586146,1586143)\n",
    "GROUP BY  \n",
    "    drug.person_id, person.gender_source_concept_id, person.race_source_concept_id, person.birth_datetime\n",
    "HAVING \n",
    "    MIN(drug.drug_exposure_start_date) = (\n",
    "        SELECT MIN(drug_exposure_start_date)\n",
    "        FROM {drug_table}\n",
    "        WHERE person_id = drug.person_id\n",
    "        AND drug_source_concept_id IN ({drug_list_str})\n",
    "    )\n",
    "    AND CAST(DATE_DIFF(MAX(visit.visit_start_date), DATE(person.birth_datetime), DAY)/365.25 AS INT) >= 18    \n",
    "'''\n",
    "\n",
    "# Execute the query and display the first few rows of the DataFrame\n",
    "df_drug = pd.read_gbq(sql_drug, dialect='standard')\n",
    "df_drug['gender'] = df_drug['gender'].replace({1585840: \"F\", 1585839: \"M\"})\n",
    "df_drug['race'] = df_drug['race'].replace({1586146: \"W\", 1586143: \"B\"})\n",
    "df_drug"
   ]
  },
  {
   "cell_type": "code",
   "execution_count": null,
   "metadata": {},
   "outputs": [],
   "source": [
    "distinct_person_drug = df_drug['person_id'].nunique()\n",
    "\n",
    "print(f\"Number of distinct values in 'person_id': {distinct_person_drug}\")"
   ]
  },
  {
   "cell_type": "code",
   "execution_count": null,
   "metadata": {},
   "outputs": [],
   "source": [
    "# Plot histogram\n",
    "df_drug['age'].hist(bins=10)\n",
    "plt.xlabel('Age')\n",
    "plt.ylabel('Frequency')\n",
    "plt.title('Age Distribution')\n",
    "plt.savefig(\"age_case.png\") \n",
    "plt.show()"
   ]
  },
  {
   "cell_type": "code",
   "execution_count": null,
   "metadata": {},
   "outputs": [],
   "source": [
    "# Calculate mean\n",
    "mean_age = df_drug['age'].mean()\n",
    "\n",
    "# Calculate first quantile (25th percentile)\n",
    "first_quantile_age = df_drug['age'].quantile(0.25)\n",
    "\n",
    "# Calculate median (50th percentile)\n",
    "median_age = df_drug['age'].median()\n",
    "\n",
    "# Calculate third quantile (75th percentile)\n",
    "third_quantile_age = df_drug['age'].quantile(0.75)\n",
    "\n",
    "print(f\"Mean: {mean_age}\")\n",
    "print(f\"First Quantile: {first_quantile_age}\")\n",
    "print(f\"Median: {median_age}\")\n",
    "print(f\"Third Quantile: {third_quantile_age}\")"
   ]
  },
  {
   "cell_type": "markdown",
   "metadata": {},
   "source": [
    "# Search for ICD codes in condition_occurence table"
   ]
  },
  {
   "cell_type": "code",
   "execution_count": null,
   "metadata": {},
   "outputs": [],
   "source": [
    "df_code = pd.read_csv(\"ICD_condition.csv\")\n",
    "icds = tuple(df_code[\"code\"])"
   ]
  },
  {
   "cell_type": "code",
   "execution_count": null,
   "metadata": {},
   "outputs": [],
   "source": [
    "query=f\"\"\"\n",
    "\n",
    "SELECT *\n",
    "\n",
    "FROM {cond_table} \n",
    "\n",
    "WHERE condition_source_value = '293.84'\n",
    "\n",
    "LIMIT 5\n",
    "\n",
    "\"\"\"\n",
    "df=pd.read_gbq(query, dialect='standard')\n",
    "df"
   ]
  },
  {
   "cell_type": "code",
   "execution_count": null,
   "metadata": {},
   "outputs": [],
   "source": [
    "#icd code from condition table appeared in icd_condition\n",
    "\n",
    "sql_icd = f'''\n",
    "SELECT \n",
    "    ICD.person_id,\n",
    "    ICD.ICD_date,\n",
    "    person.gender_source_concept_id AS gender,\n",
    "    person.race_source_concept_id AS race,\n",
    "    CAST(DATE_DIFF(MAX(visit.visit_start_date), DATE(person.birth_datetime), DAY)/365.25 AS INT) AS age,\n",
    "    DATE_DIFF(MAX(visit.visit_start_date), MIN(visit.visit_start_date), YEAR) AS ehr_length\n",
    "FROM  ( SELECT person_id, MIN(ICD_date) AS ICD_date\n",
    "        FROM (\n",
    "            SELECT \n",
    "                condition.person_id AS person_id, \n",
    "                condition.condition_source_value AS ICD_code, \n",
    "                MIN(condition.condition_start_date) AS ICD_date\n",
    "            FROM \n",
    "                {cond_table} AS condition\n",
    "            WHERE condition.condition_source_value IN {icds}\n",
    "            GROUP BY\n",
    "                condition.person_id, condition.condition_source_value\n",
    "           ) AS subquery\n",
    "       GROUP BY person_id) AS ICD\n",
    "INNER JOIN  {visit_table} AS visit ON visit.person_id = ICD.person_id\n",
    "INNER JOIN {person_table} AS person ON person.person_id = ICD.person_id\n",
    "WHERE person.gender_source_concept_id IN (1585840,1585839) AND person.race_source_concept_id IN (1586146,1586143)\n",
    "GROUP BY  \n",
    "    ICD.person_id, ICD.ICD_date, person.gender_source_concept_id, person.race_source_concept_id, person.birth_datetime\n",
    "HAVING CAST(DATE_DIFF(MAX(visit.visit_start_date), DATE(person.birth_datetime), DAY)/365.25 AS INT) >= 18 \n",
    "'''\n",
    "\n",
    "df_icd = pd.read_gbq(sql_icd, dialect='standard')\n",
    "df_icd['gender'] = df_icd['gender'].replace({1585840: \"F\", 1585839: \"M\"})\n",
    "df_icd['race'] = df_icd['race'].replace({1586146: \"W\", 1586143: \"B\"})\n",
    "df_icd"
   ]
  },
  {
   "cell_type": "code",
   "execution_count": null,
   "metadata": {},
   "outputs": [],
   "source": [
    "distinct_person_icd = df_icd['person_id'].nunique()\n",
    "\n",
    "print(f\"Number of distinct values in 'person_id': {distinct_person_icd}\")"
   ]
  },
  {
   "cell_type": "markdown",
   "metadata": {},
   "source": [
    "# Create case cohort"
   ]
  },
  {
   "cell_type": "code",
   "execution_count": null,
   "metadata": {},
   "outputs": [],
   "source": [
    "# Assuming df_drug and df_icd are pandas DataFrames\n",
    "df_depress = pd.merge(df_drug, df_icd, on='person_id', how='inner')\n",
    "\n",
    "columns = [\"person_id\", \"gender\", \"race\", \"age\", \"ehr_length\"]\n",
    "\n",
    "df_case = df_drug[columns]\n",
    "\n",
    "# Display the result\n",
    "df_case"
   ]
  },
  {
   "cell_type": "code",
   "execution_count": null,
   "metadata": {},
   "outputs": [],
   "source": [
    "df_depress.head()"
   ]
  },
  {
   "cell_type": "code",
   "execution_count": null,
   "metadata": {},
   "outputs": [],
   "source": [
    "distinct_person_depress = df_depress['person_id'].nunique()\n",
    "\n",
    "print(f\"Number of distinct values in 'person_id': {distinct_person_depress}\")"
   ]
  },
  {
   "cell_type": "code",
   "execution_count": null,
   "metadata": {},
   "outputs": [],
   "source": [
    "depress_rate = distinct_person_depress /distinct_person_drug\n",
    "\n",
    "print(f\"Depress rate in Case: {depress_rate}\")"
   ]
  },
  {
   "cell_type": "markdown",
   "metadata": {},
   "source": [
    "# Create control cohort"
   ]
  },
  {
   "cell_type": "code",
   "execution_count": null,
   "metadata": {},
   "outputs": [],
   "source": [
    "case_id = tuple(df_case[\"person_id\"])"
   ]
  },
  {
   "cell_type": "code",
   "execution_count": null,
   "metadata": {},
   "outputs": [],
   "source": [
    "sql_control = f'''\n",
    "SELECT \n",
    "    visit.person_id,\n",
    "    person.gender_source_concept_id AS gender,\n",
    "    person.race_source_concept_id AS race,\n",
    "    CAST(DATE_DIFF(MAX(visit.visit_start_date), DATE(person.birth_datetime), DAY)/365.25 AS INT) AS age,\n",
    "    DATE_DIFF(MAX(visit.visit_start_date), MIN(visit.visit_start_date), YEAR) AS ehr_length\n",
    "FROM {visit_table} AS visit \n",
    "INNER JOIN {person_table} AS person ON person.person_id = visit.person_id\n",
    "WHERE visit.person_id NOT IN {case_id}  AND \n",
    "      person.gender_source_concept_id IN (1585840,1585839) AND person.race_source_concept_id IN (1586146,1586143)\n",
    "GROUP BY  \n",
    "    visit.person_id, person.gender_source_concept_id, person.race_source_concept_id, person.birth_datetime\n",
    "HAVING \n",
    "     CAST(DATE_DIFF(MAX(visit.visit_start_date), DATE(person.birth_datetime), DAY)/365.25 AS INT) >= 18    \n",
    "'''\n",
    "\n",
    "# Execute the query and display the first few rows of the DataFrame\n",
    "df_control = pd.read_gbq(sql_control, dialect='standard')\n",
    "df_control['gender'] = df_control['gender'].replace({1585840: \"F\", 1585839: \"M\"})\n",
    "df_control['race'] = df_control['race'].replace({1586146: \"W\", 1586143: \"B\"})\n",
    "df_control"
   ]
  },
  {
   "cell_type": "code",
   "execution_count": null,
   "metadata": {},
   "outputs": [],
   "source": [
    "distinct_person_control = df_control['person_id'].nunique()\n",
    "\n",
    "print(f\"Number of distinct values in 'person_id': {distinct_person_control}\")"
   ]
  },
  {
   "cell_type": "markdown",
   "metadata": {},
   "source": [
    "# Save files"
   ]
  },
  {
   "cell_type": "code",
   "execution_count": null,
   "metadata": {},
   "outputs": [],
   "source": [
    "df_control.to_csv(\"control.csv\")"
   ]
  },
  {
   "cell_type": "code",
   "execution_count": null,
   "metadata": {},
   "outputs": [],
   "source": [
    "df_case.to_csv(\"case.csv\")"
   ]
  },
  {
   "cell_type": "code",
   "execution_count": null,
   "metadata": {},
   "outputs": [],
   "source": [
    "# This snippet assumes you run setup first\n",
    "\n",
    "# This code saves your dataframe into a csv file in a \"data\" folder in Google Bucket\n",
    "\n",
    "# Replace df with THE NAME OF YOUR DATAFRAME\n",
    "my_dataframe = df_control\n",
    "\n",
    "# Replace 'test.csv' with THE NAME of the file you're going to store in the bucket (don't delete the quotation marks)\n",
    "destination_filename = 'control.csv'\n",
    "\n",
    "########################################################################\n",
    "##\n",
    "################# DON'T CHANGE FROM HERE ###############################\n",
    "##\n",
    "########################################################################\n",
    "\n",
    "# save dataframe in a csv file in the same workspace as the notebook\n",
    "my_dataframe.to_csv(destination_filename, index=False)\n",
    "\n",
    "# get the bucket name\n",
    "my_bucket = os.getenv('WORKSPACE_BUCKET')\n",
    "\n",
    "# copy csv file to the bucket\n",
    "args = [\"gsutil\", \"cp\", f\"./{destination_filename}\", f\"{my_bucket}/data/\"]\n",
    "output = subprocess.run(args, capture_output=True)\n",
    "\n",
    "# print output from gsutil\n",
    "output.stderr\n"
   ]
  },
  {
   "cell_type": "code",
   "execution_count": null,
   "metadata": {},
   "outputs": [],
   "source": [
    "# This snippet assumes you run setup first\n",
    "\n",
    "# This code saves your dataframe into a csv file in a \"data\" folder in Google Bucket\n",
    "\n",
    "# Replace df with THE NAME OF YOUR DATAFRAME\n",
    "my_dataframe = df_case\n",
    "\n",
    "# Replace 'test.csv' with THE NAME of the file you're going to store in the bucket (don't delete the quotation marks)\n",
    "destination_filename = 'case.csv'\n",
    "\n",
    "########################################################################\n",
    "##\n",
    "################# DON'T CHANGE FROM HERE ###############################\n",
    "##\n",
    "########################################################################\n",
    "\n",
    "# save dataframe in a csv file in the same workspace as the notebook\n",
    "my_dataframe.to_csv(destination_filename, index=False)\n",
    "\n",
    "# get the bucket name\n",
    "my_bucket = os.getenv('WORKSPACE_BUCKET')\n",
    "\n",
    "# copy csv file to the bucket\n",
    "args = [\"gsutil\", \"cp\", f\"./{destination_filename}\", f\"{my_bucket}/data/\"]\n",
    "output = subprocess.run(args, capture_output=True)\n",
    "\n",
    "# print output from gsutil\n",
    "output.stderr"
   ]
  },
  {
   "cell_type": "markdown",
   "metadata": {},
   "source": [
    "# depreesion rate in matched case and control (after P2)"
   ]
  },
  {
   "cell_type": "code",
   "execution_count": null,
   "metadata": {},
   "outputs": [],
   "source": [
    "# This snippet assumes you run setup first\n",
    "\n",
    "# This code copies file in your Google Bucket and loads it into a dataframe\n",
    "\n",
    "# Replace 'test.csv' with THE NAME of the file you're going to download from the bucket (don't delete the quotation marks)\n",
    "name_of_file_in_bucket = 'matched_controls.csv'\n",
    "\n",
    "########################################################################\n",
    "##\n",
    "################# DON'T CHANGE FROM HERE ###############################\n",
    "##\n",
    "########################################################################\n",
    "\n",
    "# get the bucket name\n",
    "my_bucket = os.getenv('WORKSPACE_BUCKET')\n",
    "\n",
    "# copy csv file from the bucket to the current working space\n",
    "os.system(f\"gsutil cp '{my_bucket}/data/{name_of_file_in_bucket}' .\")\n",
    "\n",
    "print(f'[INFO] {name_of_file_in_bucket} is successfully downloaded into your working space')\n",
    "# save dataframe in a csv file in the same workspace as the notebook\n",
    "matched_controls = pd.read_csv(name_of_file_in_bucket)\n",
    "matched_controls\n"
   ]
  },
  {
   "cell_type": "code",
   "execution_count": null,
   "metadata": {},
   "outputs": [],
   "source": [
    "# This snippet assumes you run setup first\n",
    "\n",
    "# This code copies file in your Google Bucket and loads it into a dataframe\n",
    "\n",
    "# Replace 'test.csv' with THE NAME of the file you're going to download from the bucket (don't delete the quotation marks)\n",
    "name_of_file_in_bucket = 'matched_cases.csv'\n",
    "\n",
    "########################################################################\n",
    "##\n",
    "################# DON'T CHANGE FROM HERE ###############################\n",
    "##\n",
    "########################################################################\n",
    "\n",
    "# get the bucket name\n",
    "my_bucket = os.getenv('WORKSPACE_BUCKET')\n",
    "\n",
    "# copy csv file from the bucket to the current working space\n",
    "os.system(f\"gsutil cp '{my_bucket}/data/{name_of_file_in_bucket}' .\")\n",
    "\n",
    "print(f'[INFO] {name_of_file_in_bucket} is successfully downloaded into your working space')\n",
    "# save dataframe in a csv file in the same workspace as the notebook\n",
    "matched_cases = pd.read_csv(name_of_file_in_bucket)\n",
    "matched_cases"
   ]
  },
  {
   "cell_type": "code",
   "execution_count": null,
   "metadata": {},
   "outputs": [],
   "source": [
    "distinct_matched_control = matched_controls['person_id'].nunique()\n",
    "\n",
    "print(f\"Number of distinct values in 'person_id': {distinct_matched_control}\")"
   ]
  },
  {
   "cell_type": "code",
   "execution_count": null,
   "metadata": {},
   "outputs": [],
   "source": [
    "distinct_matched_case = matched_cases['person_id'].nunique()\n",
    "\n",
    "print(f\"Number of distinct values in 'person_id': {distinct_matched_case}\")"
   ]
  },
  {
   "cell_type": "code",
   "execution_count": null,
   "metadata": {},
   "outputs": [],
   "source": [
    "matched_control_id = tuple(matched_controls[\"person_id\"])"
   ]
  },
  {
   "cell_type": "code",
   "execution_count": null,
   "metadata": {},
   "outputs": [],
   "source": [
    "sql_control_depress = f'''\n",
    "  SELECT subquery.person_id\n",
    "  FROM (\n",
    "        SELECT \n",
    "            condition.person_id AS person_id, \n",
    "            condition.condition_source_value AS ICD_code\n",
    "        FROM \n",
    "            {cond_table} AS condition\n",
    "        WHERE \n",
    "        condition.condition_source_value IN {icds}) As subquery\n",
    "   WHERE subquery.person_id IN {matched_control_id}\n",
    "'''\n",
    "df_control_depress = pd.read_gbq(sql_control_depress, dialect='standard')\n",
    "df_control_depress"
   ]
  },
  {
   "cell_type": "code",
   "execution_count": null,
   "metadata": {},
   "outputs": [],
   "source": [
    "distinct_depress_control = df_control_depress['person_id'].nunique()\n",
    "\n",
    "print(f\"Number of distinct values in 'person_id': {distinct_depress_control}\")"
   ]
  },
  {
   "cell_type": "code",
   "execution_count": null,
   "metadata": {},
   "outputs": [],
   "source": [
    "depress_control_rate = distinct_depress_control /distinct_matched_control\n",
    "\n",
    "print(f\"Depress rate in Control: {depress_control_rate}\")"
   ]
  },
  {
   "cell_type": "code",
   "execution_count": null,
   "metadata": {},
   "outputs": [],
   "source": [
    "matched_case_id = tuple(matched_cases[\"person_id\"])"
   ]
  },
  {
   "cell_type": "code",
   "execution_count": null,
   "metadata": {},
   "outputs": [],
   "source": [
    "sql_case_depress = f'''\n",
    "  SELECT subquery.person_id\n",
    "  FROM (\n",
    "        SELECT \n",
    "            condition.person_id AS person_id, \n",
    "            condition.condition_source_value AS ICD_code\n",
    "        FROM \n",
    "            {cond_table} AS condition\n",
    "        WHERE \n",
    "        condition.condition_source_value IN {icds}) As subquery\n",
    "   WHERE subquery.person_id IN {matched_case_id}\n",
    "'''\n",
    "df_case_depress = pd.read_gbq(sql_case_depress, dialect='standard')\n",
    "df_case_depress"
   ]
  },
  {
   "cell_type": "code",
   "execution_count": null,
   "metadata": {},
   "outputs": [],
   "source": [
    "sql_case_depress_before = f'''\n",
    "    SELECT \n",
    "        depress.person_id,\n",
    "        depress.ICD_date,\n",
    "        statin.drug_date\n",
    "    FROM (\n",
    "        SELECT \n",
    "            ICD.person_id,\n",
    "            ICD.ICD_date\n",
    "        FROM (\n",
    "            SELECT \n",
    "                condition.person_id, \n",
    "                MIN(condition.condition_start_date) AS ICD_date\n",
    "            FROM \n",
    "                {cond_table} AS condition\n",
    "            WHERE \n",
    "                condition.condition_source_value IN {icds}\n",
    "            GROUP BY \n",
    "                condition.person_id\n",
    "        ) AS ICD\n",
    "    ) AS depress\n",
    "    INNER JOIN (\n",
    "        SELECT \n",
    "            drug.person_id,\n",
    "            MIN(drug.drug_exposure_start_date) AS drug_date\n",
    "        FROM \n",
    "            {drug_table} AS drug\n",
    "        WHERE \n",
    "            drug.drug_source_concept_id IN ({drug_list_str})\n",
    "        GROUP BY \n",
    "            drug.person_id\n",
    "        HAVING \n",
    "            MIN(drug.drug_exposure_start_date) = (\n",
    "                SELECT \n",
    "                    MIN(drug_exposure_start_date)\n",
    "                FROM \n",
    "                    {drug_table}\n",
    "                WHERE \n",
    "                    person_id = drug.person_id AND \n",
    "                    drug_source_concept_id IN ({drug_list_str}) -- Adjusted: Reference the specific drug concept within subquery\n",
    "            )\n",
    "    ) AS statin\n",
    "    ON statin.person_id = depress.person_id\n",
    "    WHERE \n",
    "        statin.person_id IN {matched_case_id} AND depress.ICD_date > statin.drug_date\n",
    "'''\n",
    "df_case_depress_before = pd.read_gbq(sql_case_depress_before, dialect='standard')\n",
    "df_case_depress_before"
   ]
  },
  {
   "cell_type": "code",
   "execution_count": null,
   "metadata": {},
   "outputs": [],
   "source": [
    "distinct_depress_case = df_case_depress['person_id'].nunique()\n",
    "\n",
    "print(f\"Number of distinct values in 'person_id': {distinct_depress_case}\")"
   ]
  },
  {
   "cell_type": "code",
   "execution_count": null,
   "metadata": {},
   "outputs": [],
   "source": [
    "distinct_depress_case_before = df_case_depress_before['person_id'].nunique()\n",
    "\n",
    "print(f\"Number of distinct values in 'person_id': {distinct_depress_case_before}\")"
   ]
  },
  {
   "cell_type": "code",
   "execution_count": null,
   "metadata": {},
   "outputs": [],
   "source": [
    "depress_case_rate = distinct_depress_case /distinct_matched_case\n",
    "\n",
    "print(f\"Depress rate in Case: {depress_case_rate}\")"
   ]
  },
  {
   "cell_type": "code",
   "execution_count": null,
   "metadata": {},
   "outputs": [],
   "source": [
    "depress_case_rate_before = distinct_depress_case_before /distinct_matched_case\n",
    "\n",
    "print(f\"Depress rate in Case: {depress_case_rate_before}\")"
   ]
  },
  {
   "cell_type": "code",
   "execution_count": null,
   "metadata": {},
   "outputs": [],
   "source": []
  }
 ],
 "metadata": {
  "kernelspec": {
   "display_name": "Python 3 (ipykernel)",
   "language": "python",
   "name": "python3"
  },
  "language_info": {
   "codemirror_mode": {
    "name": "ipython",
    "version": 3
   },
   "file_extension": ".py",
   "mimetype": "text/x-python",
   "name": "python",
   "nbconvert_exporter": "python",
   "pygments_lexer": "ipython3",
   "version": "3.8.16"
  },
  "toc": {
   "base_numbering": 1,
   "nav_menu": {},
   "number_sections": true,
   "sideBar": true,
   "skip_h1_title": false,
   "title_cell": "Table of Contents",
   "title_sidebar": "Contents",
   "toc_cell": false,
   "toc_position": {
    "height": "calc(100% - 180px)",
    "left": "10px",
    "top": "150px",
    "width": "246px"
   },
   "toc_section_display": true,
   "toc_window_display": true
  }
 },
 "nbformat": 4,
 "nbformat_minor": 4
}
